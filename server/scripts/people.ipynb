{
 "cells": [
  {
   "cell_type": "code",
   "execution_count": 1,
   "metadata": {},
   "outputs": [],
   "source": [
    "import pandas as pd\n",
    "from bs4 import BeautifulSoup\n",
    "import re\n",
    "import requests"
   ]
  },
  {
   "cell_type": "code",
   "execution_count": 2,
   "metadata": {},
   "outputs": [],
   "source": [
    "file_path = '~/Downloads/data/groups.csv'\n",
    "df = pd.read_csv(file_path)"
   ]
  },
  {
   "cell_type": "code",
   "execution_count": 3,
   "metadata": {},
   "outputs": [
    {
     "name": "stderr",
     "output_type": "stream",
     "text": [
      "/var/folders/67/4cx23sdx471d8kt2pfsw73700000gn/T/ipykernel_2350/3623007229.py:4: FutureWarning: The frame.append method is deprecated and will be removed from pandas in a future version. Use pandas.concat instead.\n",
      "  pi_df = pi_df.append({'url': 'https://www.media.mit.edu/people/rlanger/overview/'}, ignore_index=True)\n",
      "/var/folders/67/4cx23sdx471d8kt2pfsw73700000gn/T/ipykernel_2350/3623007229.py:5: FutureWarning: The frame.append method is deprecated and will be removed from pandas in a future version. Use pandas.concat instead.\n",
      "  pi_df = pi_df.append({'url': 'https://www.media.mit.edu/people/dnewman/overview/'}, ignore_index=True)\n"
     ]
    }
   ],
   "source": [
    "\n",
    "pis = df['pi_urls'].unique()\n",
    "pi_df = pd.DataFrame(pis[1:])\n",
    "pi_df.rename(columns={0: 'url'}, inplace=True)\n",
    "pi_df = pi_df.append({'url': 'https://www.media.mit.edu/people/rlanger/overview/'}, ignore_index=True)\n",
    "pi_df = pi_df.append({'url': 'https://www.media.mit.edu/people/dnewman/overview/'}, ignore_index=True)"
   ]
  },
  {
   "cell_type": "code",
   "execution_count": 4,
   "metadata": {},
   "outputs": [],
   "source": [
    "def get_image_url(people_url):\n",
    "    \"\"\"\n",
    "    scrape the media lab website to get the image corresponding to a person\n",
    "\n",
    "    :param people_url: the url to the person's page on the media lab website\n",
    "    :return: the url of the person's avatar if it exists, None otherwise\n",
    "    \"\"\"\n",
    "    try:\n",
    "        response = requests.get(people_url)\n",
    "        soup = BeautifulSoup(response.content, 'html.parser')\n",
    "        hero = soup.find('div', {'class': 'hero-content-profile-avatar'})\n",
    "        style = hero['style']\n",
    "    except:\n",
    "        return\n",
    "    match = re.search('url\\((\".+\")\\)', style)\n",
    "    if match:\n",
    "        image_url = match.group(0)[5:-2]\n",
    "        return image_url"
   ]
  },
  {
   "cell_type": "code",
   "execution_count": 5,
   "metadata": {},
   "outputs": [],
   "source": [
    "def get_bio(people_url):\n",
    "    try:\n",
    "        response = requests.get(people_url)\n",
    "        soup = BeautifulSoup(response.content, 'html.parser')\n",
    "        bio = soup.findAll('div', {'class': 'main-copy'})[0].get_text()\n",
    "        return bio\n",
    "    except:\n",
    "        return"
   ]
  },
  {
   "cell_type": "code",
   "execution_count": 6,
   "metadata": {},
   "outputs": [],
   "source": [
    "def get_name(people_url):\n",
    "    try:\n",
    "        response = requests.get(people_url)\n",
    "        soup = BeautifulSoup(response.content, 'html.parser')\n",
    "        bio = soup.find('h1', {'class': 'hero-content-title'}).get_text()\n",
    "        return bio\n",
    "    except:\n",
    "        return"
   ]
  },
  {
   "cell_type": "code",
   "execution_count": 7,
   "metadata": {},
   "outputs": [],
   "source": [
    "pi_df['image_url'] = pi_df.apply(lambda x:get_image_url(x['url']), axis=1)"
   ]
  },
  {
   "cell_type": "code",
   "execution_count": 8,
   "metadata": {},
   "outputs": [],
   "source": [
    "pi_df['bio'] = pi_df.apply(lambda x:get_bio(x['url']), axis=1)"
   ]
  },
  {
   "cell_type": "code",
   "execution_count": 9,
   "metadata": {},
   "outputs": [],
   "source": [
    "pi_df['title'] = pi_df.apply(lambda x:get_name(x['url']), axis=1)"
   ]
  },
  {
   "cell_type": "code",
   "execution_count": 10,
   "metadata": {},
   "outputs": [],
   "source": [
    "pi_df.set_index('title', inplace=True)"
   ]
  },
  {
   "cell_type": "code",
   "execution_count": 11,
   "metadata": {},
   "outputs": [],
   "source": [
    "pi_df.to_csv('pis.csv')"
   ]
  }
 ],
 "metadata": {
  "kernelspec": {
   "display_name": "Python 3",
   "language": "python",
   "name": "python3"
  },
  "language_info": {
   "codemirror_mode": {
    "name": "ipython",
    "version": 3
   },
   "file_extension": ".py",
   "mimetype": "text/x-python",
   "name": "python",
   "nbconvert_exporter": "python",
   "pygments_lexer": "ipython3",
   "version": "3.10.12"
  },
  "orig_nbformat": 4
 },
 "nbformat": 4,
 "nbformat_minor": 2
}
